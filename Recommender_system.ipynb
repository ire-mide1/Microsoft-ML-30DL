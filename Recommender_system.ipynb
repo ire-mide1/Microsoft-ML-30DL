{
 "cells": [
  {
   "cell_type": "code",
   "execution_count": 1,
   "metadata": {},
   "outputs": [],
   "source": [
    "import numpy as np\n",
    "import pandas as pd\n",
    "import matplotlib.pyplot as plt\n",
    "import seaborn as sns\n",
    "\n",
    "import warnings\n",
    "warnings.filterwarnings('ignore')"
   ]
  },
  {
   "cell_type": "code",
   "execution_count": 2,
   "metadata": {},
   "outputs": [],
   "source": [
    "df = pd.read_csv(r'C:\\Users\\Iremide\\Desktop\\titles.csv')\n",
    "df2 = pd.read_csv(r'C:\\Users\\Iremide\\Desktop\\credits.csv')"
   ]
  },
  {
   "cell_type": "code",
   "execution_count": 3,
   "metadata": {},
   "outputs": [
    {
     "data": {
      "text/html": [
       "<div>\n",
       "<style scoped>\n",
       "    .dataframe tbody tr th:only-of-type {\n",
       "        vertical-align: middle;\n",
       "    }\n",
       "\n",
       "    .dataframe tbody tr th {\n",
       "        vertical-align: top;\n",
       "    }\n",
       "\n",
       "    .dataframe thead th {\n",
       "        text-align: right;\n",
       "    }\n",
       "</style>\n",
       "<table border=\"1\" class=\"dataframe\">\n",
       "  <thead>\n",
       "    <tr style=\"text-align: right;\">\n",
       "      <th></th>\n",
       "      <th>id</th>\n",
       "      <th>title</th>\n",
       "      <th>type</th>\n",
       "      <th>description</th>\n",
       "      <th>release_year</th>\n",
       "      <th>age_certification</th>\n",
       "      <th>runtime</th>\n",
       "      <th>genres</th>\n",
       "      <th>production_countries</th>\n",
       "      <th>seasons</th>\n",
       "      <th>imdb_id</th>\n",
       "      <th>imdb_score</th>\n",
       "      <th>imdb_votes</th>\n",
       "      <th>tmdb_popularity</th>\n",
       "      <th>tmdb_score</th>\n",
       "      <th>person_id</th>\n",
       "      <th>name</th>\n",
       "      <th>character</th>\n",
       "      <th>role</th>\n",
       "    </tr>\n",
       "  </thead>\n",
       "  <tbody>\n",
       "    <tr>\n",
       "      <th>0</th>\n",
       "      <td>ts300399</td>\n",
       "      <td>Five Came Back: The Reference Films</td>\n",
       "      <td>SHOW</td>\n",
       "      <td>This collection includes 12 World War II-era p...</td>\n",
       "      <td>1945</td>\n",
       "      <td>TV-MA</td>\n",
       "      <td>48</td>\n",
       "      <td>['documentation']</td>\n",
       "      <td>['US']</td>\n",
       "      <td>1.0</td>\n",
       "      <td>NaN</td>\n",
       "      <td>NaN</td>\n",
       "      <td>NaN</td>\n",
       "      <td>0.600</td>\n",
       "      <td>NaN</td>\n",
       "      <td>NaN</td>\n",
       "      <td>NaN</td>\n",
       "      <td>NaN</td>\n",
       "      <td>NaN</td>\n",
       "    </tr>\n",
       "    <tr>\n",
       "      <th>1</th>\n",
       "      <td>tm84618</td>\n",
       "      <td>Taxi Driver</td>\n",
       "      <td>MOVIE</td>\n",
       "      <td>A mentally unstable Vietnam War veteran works ...</td>\n",
       "      <td>1976</td>\n",
       "      <td>R</td>\n",
       "      <td>113</td>\n",
       "      <td>['crime', 'drama']</td>\n",
       "      <td>['US']</td>\n",
       "      <td>NaN</td>\n",
       "      <td>tt0075314</td>\n",
       "      <td>8.3</td>\n",
       "      <td>795222.0</td>\n",
       "      <td>27.612</td>\n",
       "      <td>8.2</td>\n",
       "      <td>3748.0</td>\n",
       "      <td>Robert De Niro</td>\n",
       "      <td>Travis Bickle</td>\n",
       "      <td>ACTOR</td>\n",
       "    </tr>\n",
       "    <tr>\n",
       "      <th>2</th>\n",
       "      <td>tm84618</td>\n",
       "      <td>Taxi Driver</td>\n",
       "      <td>MOVIE</td>\n",
       "      <td>A mentally unstable Vietnam War veteran works ...</td>\n",
       "      <td>1976</td>\n",
       "      <td>R</td>\n",
       "      <td>113</td>\n",
       "      <td>['crime', 'drama']</td>\n",
       "      <td>['US']</td>\n",
       "      <td>NaN</td>\n",
       "      <td>tt0075314</td>\n",
       "      <td>8.3</td>\n",
       "      <td>795222.0</td>\n",
       "      <td>27.612</td>\n",
       "      <td>8.2</td>\n",
       "      <td>14658.0</td>\n",
       "      <td>Jodie Foster</td>\n",
       "      <td>Iris Steensma</td>\n",
       "      <td>ACTOR</td>\n",
       "    </tr>\n",
       "    <tr>\n",
       "      <th>3</th>\n",
       "      <td>tm84618</td>\n",
       "      <td>Taxi Driver</td>\n",
       "      <td>MOVIE</td>\n",
       "      <td>A mentally unstable Vietnam War veteran works ...</td>\n",
       "      <td>1976</td>\n",
       "      <td>R</td>\n",
       "      <td>113</td>\n",
       "      <td>['crime', 'drama']</td>\n",
       "      <td>['US']</td>\n",
       "      <td>NaN</td>\n",
       "      <td>tt0075314</td>\n",
       "      <td>8.3</td>\n",
       "      <td>795222.0</td>\n",
       "      <td>27.612</td>\n",
       "      <td>8.2</td>\n",
       "      <td>7064.0</td>\n",
       "      <td>Albert Brooks</td>\n",
       "      <td>Tom</td>\n",
       "      <td>ACTOR</td>\n",
       "    </tr>\n",
       "    <tr>\n",
       "      <th>4</th>\n",
       "      <td>tm84618</td>\n",
       "      <td>Taxi Driver</td>\n",
       "      <td>MOVIE</td>\n",
       "      <td>A mentally unstable Vietnam War veteran works ...</td>\n",
       "      <td>1976</td>\n",
       "      <td>R</td>\n",
       "      <td>113</td>\n",
       "      <td>['crime', 'drama']</td>\n",
       "      <td>['US']</td>\n",
       "      <td>NaN</td>\n",
       "      <td>tt0075314</td>\n",
       "      <td>8.3</td>\n",
       "      <td>795222.0</td>\n",
       "      <td>27.612</td>\n",
       "      <td>8.2</td>\n",
       "      <td>3739.0</td>\n",
       "      <td>Harvey Keitel</td>\n",
       "      <td>Matthew 'Sport' Higgins</td>\n",
       "      <td>ACTOR</td>\n",
       "    </tr>\n",
       "  </tbody>\n",
       "</table>\n",
       "</div>"
      ],
      "text/plain": [
       "         id                                title   type  \\\n",
       "0  ts300399  Five Came Back: The Reference Films   SHOW   \n",
       "1   tm84618                          Taxi Driver  MOVIE   \n",
       "2   tm84618                          Taxi Driver  MOVIE   \n",
       "3   tm84618                          Taxi Driver  MOVIE   \n",
       "4   tm84618                          Taxi Driver  MOVIE   \n",
       "\n",
       "                                         description  release_year  \\\n",
       "0  This collection includes 12 World War II-era p...          1945   \n",
       "1  A mentally unstable Vietnam War veteran works ...          1976   \n",
       "2  A mentally unstable Vietnam War veteran works ...          1976   \n",
       "3  A mentally unstable Vietnam War veteran works ...          1976   \n",
       "4  A mentally unstable Vietnam War veteran works ...          1976   \n",
       "\n",
       "  age_certification  runtime              genres production_countries  \\\n",
       "0             TV-MA       48   ['documentation']               ['US']   \n",
       "1                 R      113  ['crime', 'drama']               ['US']   \n",
       "2                 R      113  ['crime', 'drama']               ['US']   \n",
       "3                 R      113  ['crime', 'drama']               ['US']   \n",
       "4                 R      113  ['crime', 'drama']               ['US']   \n",
       "\n",
       "   seasons    imdb_id  imdb_score  imdb_votes  tmdb_popularity  tmdb_score  \\\n",
       "0      1.0        NaN         NaN         NaN            0.600         NaN   \n",
       "1      NaN  tt0075314         8.3    795222.0           27.612         8.2   \n",
       "2      NaN  tt0075314         8.3    795222.0           27.612         8.2   \n",
       "3      NaN  tt0075314         8.3    795222.0           27.612         8.2   \n",
       "4      NaN  tt0075314         8.3    795222.0           27.612         8.2   \n",
       "\n",
       "   person_id            name                character   role  \n",
       "0        NaN             NaN                      NaN    NaN  \n",
       "1     3748.0  Robert De Niro            Travis Bickle  ACTOR  \n",
       "2    14658.0    Jodie Foster            Iris Steensma  ACTOR  \n",
       "3     7064.0   Albert Brooks                      Tom  ACTOR  \n",
       "4     3739.0   Harvey Keitel  Matthew 'Sport' Higgins  ACTOR  "
      ]
     },
     "execution_count": 3,
     "metadata": {},
     "output_type": "execute_result"
    }
   ],
   "source": [
    "movies = df.merge(df2, left_on='id', right_on='id', how='left')\n",
    "movies.head()"
   ]
  },
  {
   "cell_type": "code",
   "execution_count": 4,
   "metadata": {},
   "outputs": [
    {
     "name": "stdout",
     "output_type": "stream",
     "text": [
      "<class 'pandas.core.frame.DataFrame'>\n",
      "Int64Index: 77585 entries, 0 to 77584\n",
      "Data columns (total 19 columns):\n",
      " #   Column                Non-Null Count  Dtype  \n",
      "---  ------                --------------  -----  \n",
      " 0   id                    77585 non-null  object \n",
      " 1   title                 77584 non-null  object \n",
      " 2   type                  77585 non-null  object \n",
      " 3   description           77524 non-null  object \n",
      " 4   release_year          77585 non-null  int64  \n",
      " 5   age_certification     46840 non-null  object \n",
      " 6   runtime               77585 non-null  int64  \n",
      " 7   genres                77585 non-null  object \n",
      " 8   production_countries  77585 non-null  object \n",
      " 9   seasons               14247 non-null  float64\n",
      " 10  imdb_id               73726 non-null  object \n",
      " 11  imdb_score            73257 non-null  float64\n",
      " 12  imdb_votes            73168 non-null  float64\n",
      " 13  tmdb_popularity       77482 non-null  float64\n",
      " 14  tmdb_score            76322 non-null  float64\n",
      " 15  person_id             77213 non-null  float64\n",
      " 16  name                  77213 non-null  object \n",
      " 17  character             67586 non-null  object \n",
      " 18  role                  77213 non-null  object \n",
      "dtypes: float64(6), int64(2), object(11)\n",
      "memory usage: 11.8+ MB\n"
     ]
    }
   ],
   "source": [
    "movies.info()"
   ]
  },
  {
   "cell_type": "code",
   "execution_count": 5,
   "metadata": {},
   "outputs": [
    {
     "data": {
      "text/plain": [
       "id                          0\n",
       "title                       1\n",
       "type                        0\n",
       "description                61\n",
       "release_year                0\n",
       "age_certification       30745\n",
       "runtime                     0\n",
       "genres                      0\n",
       "production_countries        0\n",
       "seasons                 63338\n",
       "imdb_id                  3859\n",
       "imdb_score               4328\n",
       "imdb_votes               4417\n",
       "tmdb_popularity           103\n",
       "tmdb_score               1263\n",
       "person_id                 372\n",
       "name                      372\n",
       "character                9999\n",
       "role                      372\n",
       "dtype: int64"
      ]
     },
     "execution_count": 5,
     "metadata": {},
     "output_type": "execute_result"
    }
   ],
   "source": [
    "movies.isnull().sum()"
   ]
  },
  {
   "cell_type": "code",
   "execution_count": 6,
   "metadata": {},
   "outputs": [],
   "source": [
    "movies['idInt'] = movies['id'].str.replace('\\D+','').astype(int)"
   ]
  },
  {
   "cell_type": "code",
   "execution_count": 7,
   "metadata": {},
   "outputs": [],
   "source": [
    "movies.dropna(subset = ['title', 'description', 'imdb_id', 'name'] , inplace= True)"
   ]
  },
  {
   "cell_type": "code",
   "execution_count": 8,
   "metadata": {},
   "outputs": [],
   "source": [
    "movies.drop(['character', 'imdb_id', 'id'], axis =1, inplace = True)"
   ]
  },
  {
   "cell_type": "code",
   "execution_count": 9,
   "metadata": {},
   "outputs": [
    {
     "data": {
      "text/plain": [
       "title                   0\n",
       "type                    0\n",
       "description             0\n",
       "release_year            0\n",
       "age_certification       0\n",
       "runtime                 0\n",
       "genres                  0\n",
       "production_countries    0\n",
       "seasons                 0\n",
       "imdb_score              0\n",
       "imdb_votes              0\n",
       "tmdb_popularity         0\n",
       "tmdb_score              0\n",
       "person_id               0\n",
       "name                    0\n",
       "role                    0\n",
       "idInt                   0\n",
       "dtype: int64"
      ]
     },
     "execution_count": 9,
     "metadata": {},
     "output_type": "execute_result"
    }
   ],
   "source": [
    "movies['seasons'].fillna(0, inplace= True)\n",
    "movies['age_certification'].fillna('TV_PG', inplace = True)\n",
    "movies.fillna(method= \"bfill\", inplace = True)\n",
    "movies['tmdb_score'].fillna(movies['tmdb_score'].mean(), inplace= True)\n",
    "movies.isnull().sum()"
   ]
  },
  {
   "cell_type": "code",
   "execution_count": 10,
   "metadata": {},
   "outputs": [],
   "source": [
    "movies['genres'] = movies['genres'].str.strip('[]').str.replace(' ','').str.replace(\"'\",'')\n",
    "movies['genres'] = movies['genres'].str.split(',')"
   ]
  },
  {
   "cell_type": "code",
   "execution_count": 11,
   "metadata": {},
   "outputs": [
    {
     "data": {
      "image/png": "[encoded data removed]",
      "text/plain": [
       "<Figure size 864x720 with 1 Axes>"
      ]
     },
     "metadata": {
      "needs_background": "light"
     },
     "output_type": "display_data"
    }
   ],
   "source": [
    "plt.subplots(figsize=(12,10))\n",
    "list1 = []\n",
    "for i in movies['genres']:\n",
    "    list1.extend(i)\n",
    "ax = pd.Series(list1).value_counts()[:10].sort_values(ascending=True).plot.barh(width=0.9,color=sns.color_palette('hls',10))\n",
    "for i, v in enumerate(pd.Series(list1).value_counts()[:10].sort_values(ascending=True).values): \n",
    "    ax.text(.8, i, v,fontsize=12,color='white',weight='bold')\n",
    "plt.title('Top Genres')\n",
    "plt.show()\n"
   ]
  },
  {
   "cell_type": "code",
   "execution_count": 12,
   "metadata": {},
   "outputs": [
    {
     "data": {
      "text/plain": [
       "['crime',\n",
       " 'drama',\n",
       " 'comedy',\n",
       " 'fantasy',\n",
       " 'horror',\n",
       " 'european',\n",
       " 'thriller',\n",
       " 'action',\n",
       " 'music',\n",
       " 'romance',\n",
       " 'family',\n",
       " 'western',\n",
       " 'war',\n",
       " 'animation',\n",
       " 'documentation',\n",
       " 'history',\n",
       " 'scifi',\n",
       " 'reality',\n",
       " 'sport',\n",
       " '']"
      ]
     },
     "execution_count": 12,
     "metadata": {},
     "output_type": "execute_result"
    }
   ],
   "source": [
    "genreList = []\n",
    "for index, row in movies.iterrows():\n",
    "    genres = row[\"genres\"]\n",
    "    \n",
    "    for genre in genres:\n",
    "        if genre not in genreList:\n",
    "            genreList.append(genre)\n",
    "genreList[:] #now we have a list with unique genres"
   ]
  },
  {
   "cell_type": "code",
   "execution_count": 13,
   "metadata": {},
   "outputs": [],
   "source": [
    "def binary(genre_list):\n",
    "    binaryList = []\n",
    "    \n",
    "    for genre in genreList:\n",
    "        if genre in genre_list:\n",
    "            binaryList.append(1)\n",
    "        else:\n",
    "            binaryList.append(0)\n",
    "    \n",
    "    return binaryList"
   ]
  },
  {
   "cell_type": "code",
   "execution_count": 14,
   "metadata": {},
   "outputs": [
    {
     "data": {
      "text/plain": [
       "1    [1, 1, 0, 0, 0, 0, 0, 0, 0, 0, 0, 0, 0, 0, 0, ...\n",
       "2    [1, 1, 0, 0, 0, 0, 0, 0, 0, 0, 0, 0, 0, 0, 0, ...\n",
       "3    [1, 1, 0, 0, 0, 0, 0, 0, 0, 0, 0, 0, 0, 0, 0, ...\n",
       "4    [1, 1, 0, 0, 0, 0, 0, 0, 0, 0, 0, 0, 0, 0, 0, ...\n",
       "5    [1, 1, 0, 0, 0, 0, 0, 0, 0, 0, 0, 0, 0, 0, 0, ...\n",
       "Name: genres_bin, dtype: object"
      ]
     },
     "execution_count": 14,
     "metadata": {},
     "output_type": "execute_result"
    }
   ],
   "source": [
    "movies['genres_bin'] = movies['genres'].apply(lambda x: binary(x))\n",
    "movies['genres_bin'].head()"
   ]
  },
  {
   "cell_type": "code",
   "execution_count": 15,
   "metadata": {},
   "outputs": [
    {
     "data": {
      "text/plain": [
       "1    [0, 0, 0, 0, 0, 0, 0, 0, 0, 0, 0, 0, 0, 0, 0, ...\n",
       "2    [0, 0, 0, 0, 0, 0, 0, 0, 0, 0, 0, 0, 0, 0, 0, ...\n",
       "3    [0, 0, 0, 0, 0, 0, 0, 0, 0, 0, 0, 0, 0, 0, 0, ...\n",
       "4    [0, 0, 0, 0, 0, 0, 0, 0, 0, 0, 0, 0, 0, 0, 0, ...\n",
       "5    [0, 0, 0, 0, 0, 0, 0, 0, 0, 0, 0, 0, 0, 0, 0, ...\n",
       "Name: actor_bin, dtype: object"
      ]
     },
     "execution_count": 15,
     "metadata": {},
     "output_type": "execute_result"
    }
   ],
   "source": [
    "movies['actor_bin'] = movies['name'].apply(lambda x: binary(x))\n",
    "movies['actor_bin'].head()"
   ]
  },
  {
   "cell_type": "code",
   "execution_count": 16,
   "metadata": {},
   "outputs": [
    {
     "data": {
      "text/plain": [
       "Index(['title', 'type', 'description', 'release_year', 'age_certification',\n",
       "       'runtime', 'genres', 'production_countries', 'seasons', 'imdb_score',\n",
       "       'imdb_votes', 'tmdb_popularity', 'tmdb_score', 'person_id', 'name',\n",
       "       'role', 'idInt', 'genres_bin', 'actor_bin'],\n",
       "      dtype='object')"
      ]
     },
     "execution_count": 16,
     "metadata": {},
     "output_type": "execute_result"
    }
   ],
   "source": [
    "movies.columns"
   ]
  },
  {
   "cell_type": "code",
   "execution_count": 17,
   "metadata": {},
   "outputs": [],
   "source": [
    "from scipy import spatial\n",
    "def Similarity(movieId1, movieId2):\n",
    "    a = movies.iloc[movieId1]\n",
    "    b = movies.iloc[movieId2]\n",
    "\n",
    "\n",
    "    #data_neighbours[product].iloc[1:10\n",
    "    \n",
    "    genresA = a['genres_bin']\n",
    "    genresB = b['genres_bin']\n",
    "    \n",
    "    genreDistance = spatial.distance.cosine(genresA, genresB)\n",
    "    \n",
    "    scoreA = a['actor_bin']\n",
    "    scoreB = b['actor_bin']\n",
    "    scoreDistance = spatial.distance.cosine(scoreA, scoreB)\n",
    "    \n",
    "    return genreDistance + scoreDistance "
   ]
  },
  {
   "cell_type": "code",
   "execution_count": 18,
   "metadata": {},
   "outputs": [
    {
     "data": {
      "text/plain": [
       "0.5917517095361369"
      ]
     },
     "execution_count": 18,
     "metadata": {},
     "output_type": "execute_result"
    }
   ],
   "source": [
    "Similarity(3,160)"
   ]
  },
  {
   "cell_type": "code",
   "execution_count": 19,
   "metadata": {},
   "outputs": [
    {
     "name": "stdout",
     "output_type": "stream",
     "text": [
      "title                                                         Taxi Driver\n",
      "type                                                                MOVIE\n",
      "description             A mentally unstable Vietnam War veteran works ...\n",
      "release_year                                                         1976\n",
      "age_certification                                                       R\n",
      "runtime                                                               113\n",
      "genres                                                     [crime, drama]\n",
      "production_countries                                               ['US']\n",
      "seasons                                                               0.0\n",
      "imdb_score                                                            8.3\n",
      "imdb_votes                                                       795222.0\n",
      "tmdb_popularity                                                    27.612\n",
      "tmdb_score                                                            8.2\n",
      "person_id                                                          3739.0\n",
      "name                                                        Harvey Keitel\n",
      "role                                                                ACTOR\n",
      "idInt                                                               84618\n",
      "genres_bin              [1, 1, 0, 0, 0, 0, 0, 0, 0, 0, 0, 0, 0, 0, 0, ...\n",
      "actor_bin               [0, 0, 0, 0, 0, 0, 0, 0, 0, 0, 0, 0, 0, 0, 0, ...\n",
      "Name: 4, dtype: object\n",
      "title                                                         Dirty Harry\n",
      "type                                                                MOVIE\n",
      "description             When a madman dubbed 'Scorpio' terrorizes San ...\n",
      "release_year                                                         1971\n",
      "age_certification                                                       R\n",
      "runtime                                                               102\n",
      "genres                                          [thriller, crime, action]\n",
      "production_countries                                               ['US']\n",
      "seasons                                                               0.0\n",
      "imdb_score                                                            7.7\n",
      "imdb_votes                                                       153463.0\n",
      "tmdb_popularity                                                    14.745\n",
      "tmdb_score                                                            7.5\n",
      "person_id                                                         28420.0\n",
      "name                                                         John Mitchum\n",
      "role                                                                ACTOR\n",
      "idInt                                                               14873\n",
      "genres_bin              [1, 0, 0, 0, 0, 0, 1, 1, 0, 0, 0, 0, 0, 0, 0, ...\n",
      "actor_bin               [0, 0, 0, 0, 0, 0, 0, 0, 0, 0, 0, 0, 0, 0, 0, ...\n",
      "Name: 161, dtype: object\n"
     ]
    }
   ],
   "source": [
    "print(movies.iloc[3])\n",
    "print(movies.iloc[160])"
   ]
  },
  {
   "cell_type": "code",
   "execution_count": 20,
   "metadata": {},
   "outputs": [],
   "source": [
    "movies.insert(0, 'new_id', range(len(movies)))"
   ]
  },
  {
   "cell_type": "code",
   "execution_count": 41,
   "metadata": {},
   "outputs": [],
   "source": [
    "import operator\n",
    "def predict_score():\n",
    "    name = input('Enter a movie title: ')\n",
    "    new_movie = movies[movies['title'].str.contains(name)].iloc[0].to_frame().T\n",
    "    print('Selected Movie: ',new_movie.title.values[0])\n",
    "    def getNeighbors(baseMovie, K):\n",
    "        distances = []\n",
    "    \n",
    "        for index, movie in movies.iterrows():\n",
    "            if movie['new_id'] != baseMovie['new_id'].values[0]:\n",
    "                dist = Similarity(baseMovie['new_id'].values[0], movie['new_id'])\n",
    "                distances.append((movie['new_id'], dist))\n",
    "    \n",
    "        distances.sort(key=operator.itemgetter(1))\n",
    "        neighbors = []\n",
    "    \n",
    "        for x in range(K):\n",
    "            neighbors.append(distances[x])\n",
    "        return neighbors\n",
    "    \n",
    "    K = 50\n",
    "    avgRating = 0\n",
    "    neighbors = getNeighbors(new_movie, K)\n",
    "    print('\\nRecommended Movies: \\n')\n",
    "    for neighbor in neighbors:\n",
    "        if str(movies.iloc[neighbor[0]][1]) != new_movie.title.values[0]:\n",
    "            print(str( movies.iloc[neighbor[0]][0])+\" | Title: \"+str(movies.iloc[neighbor[0]][1])+\" | Genres: \"+str(movies.iloc[neighbor[0]][7]).strip('[]').replace(' ','')+\" | Rating: \"+str(movies.iloc[neighbor[0]][10]))\n",
    "    print('\\n')\n",
    "    #avgRating = int(avgRating)/K\n",
    "    #print('The predicted rating for %s is: %f' %(new_movie['title'].values[0],avgRating))\n",
    "    #print('The actual rating for %s is %f' %(new_movie['title'].values[0],new_movie['vote_average']))\n"
   ]
  },
  {
   "cell_type": "code",
   "execution_count": 42,
   "metadata": {},
   "outputs": [
    {
     "name": "stdout",
     "output_type": "stream",
     "text": [
      "Selected Movie:  Taxi Driver\n",
      "\n",
      "Recommended Movies: \n",
      "\n",
      "605 | Title: The Return of the Prodigal Son | Genres: 'drama','crime' | Rating: 7.2\n",
      "606 | Title: The Return of the Prodigal Son | Genres: 'drama','crime' | Rating: 7.2\n",
      "607 | Title: The Return of the Prodigal Son | Genres: 'drama','crime' | Rating: 7.2\n",
      "608 | Title: The Return of the Prodigal Son | Genres: 'drama','crime' | Rating: 7.2\n",
      "609 | Title: The Return of the Prodigal Son | Genres: 'drama','crime' | Rating: 7.2\n",
      "610 | Title: The Return of the Prodigal Son | Genres: 'drama','crime' | Rating: 7.2\n",
      "611 | Title: The Return of the Prodigal Son | Genres: 'drama','crime' | Rating: 7.2\n",
      "612 | Title: The Return of the Prodigal Son | Genres: 'drama','crime' | Rating: 7.2\n",
      "613 | Title: The Return of the Prodigal Son | Genres: 'drama','crime' | Rating: 7.2\n",
      "614 | Title: The Return of the Prodigal Son | Genres: 'drama','crime' | Rating: 7.2\n",
      "615 | Title: The Return of the Prodigal Son | Genres: 'drama','crime' | Rating: 7.2\n",
      "616 | Title: The Return of the Prodigal Son | Genres: 'drama','crime' | Rating: 7.2\n",
      "1393 | Title: Adam: His Song Continues | Genres: 'crime','drama' | Rating: 7.0\n",
      "1394 | Title: Adam: His Song Continues | Genres: 'crime','drama' | Rating: 7.0\n",
      "\n",
      "\n"
     ]
    }
   ],
   "source": [
    "predict_score()"
   ]
  },
  {
   "cell_type": "code",
   "execution_count": null,
   "metadata": {},
   "outputs": [],
   "source": []
  }
 ],
 "metadata": {
  "kernelspec": {
   "display_name": "Python 3.9.7 ('base')",
   "language": "python",
   "name": "python3"
  },
  "language_info": {
   "codemirror_mode": {
    "name": "ipython",
    "version": 3
   },
   "file_extension": ".py",
   "mimetype": "text/x-python",
   "name": "python",
   "nbconvert_exporter": "python",
   "pygments_lexer": "ipython3",
   "version": "3.9.7"
  },
  "orig_nbformat": 4,
  "vscode": {
   "interpreter": {
    "hash": "ab83bb3b31ef002462feddea820f6122660d523dbac5533764612fbae547542e"
   }
  }
 },
 "nbformat": 4,
 "nbformat_minor": 2
}
