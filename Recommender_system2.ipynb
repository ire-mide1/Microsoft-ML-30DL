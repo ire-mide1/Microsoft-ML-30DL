{
 "cells": [
  {
   "cell_type": "code",
   "execution_count": 1,
   "metadata": {},
   "outputs": [],
   "source": [
    "import numpy as np\n",
    "import pandas as pd\n",
    "import matplotlib.pyplot as plt\n",
    "import seaborn as sns\n",
    "\n",
    "import warnings\n",
    "warnings.filterwarnings('ignore')"
   ]
  },
  {
   "cell_type": "code",
   "execution_count": 2,
   "metadata": {},
   "outputs": [],
   "source": [
    "#get movies data\n",
    "\n",
    "movies = pd.read_csv(r'C:\\Users\\Iremide\\Desktop\\titles.csv')\n",
    "#df2 = pd.read_csv(r'C:\\Users\\Iremide\\Desktop\\credits.csv')"
   ]
  },
  {
   "cell_type": "code",
   "execution_count": 3,
   "metadata": {},
   "outputs": [
    {
     "data": {
      "text/plain": [
       "Index(['id', 'title', 'type', 'description', 'release_year',\n",
       "       'age_certification', 'runtime', 'genres', 'production_countries',\n",
       "       'seasons', 'imdb_id', 'imdb_score', 'imdb_votes', 'tmdb_popularity',\n",
       "       'tmdb_score'],\n",
       "      dtype='object')"
      ]
     },
     "execution_count": 3,
     "metadata": {},
     "output_type": "execute_result"
    }
   ],
   "source": [
    "movies.columns"
   ]
  },
  {
   "cell_type": "code",
   "execution_count": 4,
   "metadata": {},
   "outputs": [
    {
     "data": {
      "text/html": [
       "<div>\n",
       "<style scoped>\n",
       "    .dataframe tbody tr th:only-of-type {\n",
       "        vertical-align: middle;\n",
       "    }\n",
       "\n",
       "    .dataframe tbody tr th {\n",
       "        vertical-align: top;\n",
       "    }\n",
       "\n",
       "    .dataframe thead th {\n",
       "        text-align: right;\n",
       "    }\n",
       "</style>\n",
       "<table border=\"1\" class=\"dataframe\">\n",
       "  <thead>\n",
       "    <tr style=\"text-align: right;\">\n",
       "      <th></th>\n",
       "      <th>title</th>\n",
       "      <th>type</th>\n",
       "      <th>release_year</th>\n",
       "      <th>age_certification</th>\n",
       "      <th>runtime</th>\n",
       "      <th>genres</th>\n",
       "      <th>seasons</th>\n",
       "      <th>imdb_score</th>\n",
       "      <th>tmdb_score</th>\n",
       "      <th>tmdb_popularity</th>\n",
       "    </tr>\n",
       "  </thead>\n",
       "  <tbody>\n",
       "    <tr>\n",
       "      <th>0</th>\n",
       "      <td>Five Came Back: The Reference Films</td>\n",
       "      <td>SHOW</td>\n",
       "      <td>1945</td>\n",
       "      <td>TV-MA</td>\n",
       "      <td>48</td>\n",
       "      <td>['documentation']</td>\n",
       "      <td>1.0</td>\n",
       "      <td>NaN</td>\n",
       "      <td>NaN</td>\n",
       "      <td>0.600</td>\n",
       "    </tr>\n",
       "    <tr>\n",
       "      <th>1</th>\n",
       "      <td>Taxi Driver</td>\n",
       "      <td>MOVIE</td>\n",
       "      <td>1976</td>\n",
       "      <td>R</td>\n",
       "      <td>113</td>\n",
       "      <td>['crime', 'drama']</td>\n",
       "      <td>NaN</td>\n",
       "      <td>8.3</td>\n",
       "      <td>8.2</td>\n",
       "      <td>27.612</td>\n",
       "    </tr>\n",
       "    <tr>\n",
       "      <th>2</th>\n",
       "      <td>Monty Python and the Holy Grail</td>\n",
       "      <td>MOVIE</td>\n",
       "      <td>1975</td>\n",
       "      <td>PG</td>\n",
       "      <td>91</td>\n",
       "      <td>['comedy', 'fantasy']</td>\n",
       "      <td>NaN</td>\n",
       "      <td>8.2</td>\n",
       "      <td>7.8</td>\n",
       "      <td>18.216</td>\n",
       "    </tr>\n",
       "    <tr>\n",
       "      <th>3</th>\n",
       "      <td>Life of Brian</td>\n",
       "      <td>MOVIE</td>\n",
       "      <td>1979</td>\n",
       "      <td>R</td>\n",
       "      <td>94</td>\n",
       "      <td>['comedy']</td>\n",
       "      <td>NaN</td>\n",
       "      <td>8.0</td>\n",
       "      <td>7.8</td>\n",
       "      <td>17.505</td>\n",
       "    </tr>\n",
       "    <tr>\n",
       "      <th>4</th>\n",
       "      <td>The Exorcist</td>\n",
       "      <td>MOVIE</td>\n",
       "      <td>1973</td>\n",
       "      <td>R</td>\n",
       "      <td>133</td>\n",
       "      <td>['horror']</td>\n",
       "      <td>NaN</td>\n",
       "      <td>8.1</td>\n",
       "      <td>7.7</td>\n",
       "      <td>95.337</td>\n",
       "    </tr>\n",
       "  </tbody>\n",
       "</table>\n",
       "</div>"
      ],
      "text/plain": [
       "                                 title   type  release_year age_certification  \\\n",
       "0  Five Came Back: The Reference Films   SHOW          1945             TV-MA   \n",
       "1                          Taxi Driver  MOVIE          1976                 R   \n",
       "2      Monty Python and the Holy Grail  MOVIE          1975                PG   \n",
       "3                        Life of Brian  MOVIE          1979                 R   \n",
       "4                         The Exorcist  MOVIE          1973                 R   \n",
       "\n",
       "   runtime                 genres  seasons  imdb_score  tmdb_score  \\\n",
       "0       48      ['documentation']      1.0         NaN         NaN   \n",
       "1      113     ['crime', 'drama']      NaN         8.3         8.2   \n",
       "2       91  ['comedy', 'fantasy']      NaN         8.2         7.8   \n",
       "3       94             ['comedy']      NaN         8.0         7.8   \n",
       "4      133             ['horror']      NaN         8.1         7.7   \n",
       "\n",
       "   tmdb_popularity  \n",
       "0            0.600  \n",
       "1           27.612  \n",
       "2           18.216  \n",
       "3           17.505  \n",
       "4           95.337  "
      ]
     },
     "execution_count": 4,
     "metadata": {},
     "output_type": "execute_result"
    }
   ],
   "source": [
    "#collect particular columns\n",
    "\n",
    "movies =  movies[['title', 'type', 'release_year', 'age_certification', 'runtime', 'genres', 'seasons', 'imdb_score', 'tmdb_score', 'tmdb_popularity']]\n",
    "movies.head()"
   ]
  },
  {
   "cell_type": "code",
   "execution_count": 5,
   "metadata": {},
   "outputs": [
    {
     "name": "stdout",
     "output_type": "stream",
     "text": [
      "<class 'pandas.core.frame.DataFrame'>\n",
      "RangeIndex: 5806 entries, 0 to 5805\n",
      "Data columns (total 10 columns):\n",
      " #   Column             Non-Null Count  Dtype  \n",
      "---  ------             --------------  -----  \n",
      " 0   title              5805 non-null   object \n",
      " 1   type               5806 non-null   object \n",
      " 2   release_year       5806 non-null   int64  \n",
      " 3   age_certification  3196 non-null   object \n",
      " 4   runtime            5806 non-null   int64  \n",
      " 5   genres             5806 non-null   object \n",
      " 6   seasons            2047 non-null   float64\n",
      " 7   imdb_score         5283 non-null   float64\n",
      " 8   tmdb_score         5488 non-null   float64\n",
      " 9   tmdb_popularity    5712 non-null   float64\n",
      "dtypes: float64(4), int64(2), object(4)\n",
      "memory usage: 453.7+ KB\n"
     ]
    }
   ],
   "source": [
    "movies.info()"
   ]
  },
  {
   "cell_type": "code",
   "execution_count": 6,
   "metadata": {},
   "outputs": [
    {
     "name": "stdout",
     "output_type": "stream",
     "text": [
      "title                   1\n",
      "type                    0\n",
      "release_year            0\n",
      "age_certification    2610\n",
      "runtime                 0\n",
      "genres                  0\n",
      "seasons              3759\n",
      "imdb_score            523\n",
      "tmdb_score            318\n",
      "tmdb_popularity        94\n",
      "dtype: int64\n"
     ]
    }
   ],
   "source": [
    "print(movies.isnull().sum())"
   ]
  },
  {
   "cell_type": "code",
   "execution_count": 7,
   "metadata": {},
   "outputs": [],
   "source": [
    "#drop the one nan in title column\n",
    "\n",
    "movies.dropna(subset = ['title'] , inplace= True)"
   ]
  },
  {
   "cell_type": "code",
   "execution_count": 8,
   "metadata": {},
   "outputs": [
    {
     "data": {
      "text/plain": [
       "title                0\n",
       "type                 0\n",
       "release_year         0\n",
       "age_certification    0\n",
       "runtime              0\n",
       "genres               0\n",
       "seasons              0\n",
       "imdb_score           0\n",
       "tmdb_score           0\n",
       "tmdb_popularity      0\n",
       "dtype: int64"
      ]
     },
     "execution_count": 8,
     "metadata": {},
     "output_type": "execute_result"
    }
   ],
   "source": [
    "#data cleaning\n",
    "\n",
    "movies['seasons'].fillna(0, inplace= True)\n",
    "movies['age_certification'].fillna('TV_PG', inplace = True)\n",
    "movies.fillna(method= \"bfill\", inplace = True)\n",
    "movies['tmdb_score'].fillna(movies['tmdb_score'].mean(), inplace= True)\n",
    "movies.isnull().sum()"
   ]
  },
  {
   "cell_type": "code",
   "execution_count": 9,
   "metadata": {},
   "outputs": [
    {
     "data": {
      "text/html": [
       "<div>\n",
       "<style scoped>\n",
       "    .dataframe tbody tr th:only-of-type {\n",
       "        vertical-align: middle;\n",
       "    }\n",
       "\n",
       "    .dataframe tbody tr th {\n",
       "        vertical-align: top;\n",
       "    }\n",
       "\n",
       "    .dataframe thead th {\n",
       "        text-align: right;\n",
       "    }\n",
       "</style>\n",
       "<table border=\"1\" class=\"dataframe\">\n",
       "  <thead>\n",
       "    <tr style=\"text-align: right;\">\n",
       "      <th></th>\n",
       "      <th>title</th>\n",
       "      <th>type</th>\n",
       "      <th>release_year</th>\n",
       "      <th>age_certification</th>\n",
       "      <th>runtime</th>\n",
       "      <th>genres</th>\n",
       "      <th>seasons</th>\n",
       "      <th>imdb_score</th>\n",
       "      <th>tmdb_score</th>\n",
       "      <th>tmdb_popularity</th>\n",
       "    </tr>\n",
       "  </thead>\n",
       "  <tbody>\n",
       "    <tr>\n",
       "      <th>0</th>\n",
       "      <td>Five Came Back: The Reference Films</td>\n",
       "      <td>SHOW</td>\n",
       "      <td>1945</td>\n",
       "      <td>TV-MA</td>\n",
       "      <td>48</td>\n",
       "      <td>[documentation]</td>\n",
       "      <td>1.0</td>\n",
       "      <td>8.3</td>\n",
       "      <td>8.2</td>\n",
       "      <td>0.600</td>\n",
       "    </tr>\n",
       "    <tr>\n",
       "      <th>1</th>\n",
       "      <td>Taxi Driver</td>\n",
       "      <td>MOVIE</td>\n",
       "      <td>1976</td>\n",
       "      <td>R</td>\n",
       "      <td>113</td>\n",
       "      <td>[crime, drama]</td>\n",
       "      <td>0.0</td>\n",
       "      <td>8.3</td>\n",
       "      <td>8.2</td>\n",
       "      <td>27.612</td>\n",
       "    </tr>\n",
       "  </tbody>\n",
       "</table>\n",
       "</div>"
      ],
      "text/plain": [
       "                                 title   type  release_year age_certification  \\\n",
       "0  Five Came Back: The Reference Films   SHOW          1945             TV-MA   \n",
       "1                          Taxi Driver  MOVIE          1976                 R   \n",
       "\n",
       "   runtime           genres  seasons  imdb_score  tmdb_score  tmdb_popularity  \n",
       "0       48  [documentation]      1.0         8.3         8.2            0.600  \n",
       "1      113   [crime, drama]      0.0         8.3         8.2           27.612  "
      ]
     },
     "execution_count": 9,
     "metadata": {},
     "output_type": "execute_result"
    }
   ],
   "source": [
    "#column genre preprocessing\n",
    "\n",
    "movies['genres'] = movies['genres'].str.strip('[]').str.replace(' ','').str.replace(\"'\",'')\n",
    "movies['genres'] = movies['genres'].str.split(',')\n",
    "movies.head(2)"
   ]
  },
  {
   "cell_type": "code",
   "execution_count": 10,
   "metadata": {},
   "outputs": [
    {
     "data": {
      "image/png": "[encoded data removed]",
      "text/plain": [
       "<Figure size 864x720 with 1 Axes>"
      ]
     },
     "metadata": {
      "needs_background": "light"
     },
     "output_type": "display_data"
    }
   ],
   "source": [
    "#data visualization for column genres\n",
    "\n",
    "plt.subplots(figsize=(12,10))\n",
    "list1 = []\n",
    "for i in movies['genres']:\n",
    "    list1.extend(i)\n",
    "ax = pd.Series(list1).value_counts()[:10].sort_values(ascending=True).plot.barh(width=0.9,color=sns.color_palette('hls',10))\n",
    "for i, v in enumerate(pd.Series(list1).value_counts()[:10].sort_values(ascending=True).values): \n",
    "    ax.text(.8, i, v,fontsize=12,color='white',weight='bold')\n",
    "plt.title('Top Genres')\n",
    "plt.show()\n"
   ]
  },
  {
   "cell_type": "code",
   "execution_count": 11,
   "metadata": {},
   "outputs": [
    {
     "data": {
      "text/plain": [
       "Index(['title', 'type', 'release_year', 'age_certification', 'runtime',\n",
       "       'genres', 'seasons', 'imdb_score', 'tmdb_score', 'tmdb_popularity'],\n",
       "      dtype='object')"
      ]
     },
     "execution_count": 11,
     "metadata": {},
     "output_type": "execute_result"
    }
   ],
   "source": [
    "movies = movies.copy()\n",
    "movies.columns"
   ]
  },
  {
   "cell_type": "code",
   "execution_count": 12,
   "metadata": {},
   "outputs": [],
   "source": [
    "#Data preprocessing by scaling the numerical columns\n",
    "\n",
    "from sklearn.preprocessing import StandardScaler, MinMaxScaler\n",
    "\n",
    "col_names = ['release_year', 'runtime',  'seasons', 'imdb_score', 'tmdb_score', 'tmdb_popularity']\n",
    "features = movies[col_names]\n",
    "#scaler = StandardScaler()\n",
    "scaler= MinMaxScaler()\n",
    "# transform data\n",
    "features = scaler.fit_transform(features.values)"
   ]
  },
  {
   "cell_type": "code",
   "execution_count": 13,
   "metadata": {},
   "outputs": [
    {
     "data": {
      "text/html": [
       "<div>\n",
       "<style scoped>\n",
       "    .dataframe tbody tr th:only-of-type {\n",
       "        vertical-align: middle;\n",
       "    }\n",
       "\n",
       "    .dataframe tbody tr th {\n",
       "        vertical-align: top;\n",
       "    }\n",
       "\n",
       "    .dataframe thead th {\n",
       "        text-align: right;\n",
       "    }\n",
       "</style>\n",
       "<table border=\"1\" class=\"dataframe\">\n",
       "  <thead>\n",
       "    <tr style=\"text-align: right;\">\n",
       "      <th></th>\n",
       "      <th>title</th>\n",
       "      <th>type</th>\n",
       "      <th>release_year</th>\n",
       "      <th>age_certification</th>\n",
       "      <th>runtime</th>\n",
       "      <th>genres</th>\n",
       "      <th>seasons</th>\n",
       "      <th>imdb_score</th>\n",
       "      <th>tmdb_score</th>\n",
       "      <th>tmdb_popularity</th>\n",
       "    </tr>\n",
       "  </thead>\n",
       "  <tbody>\n",
       "    <tr>\n",
       "      <th>5801</th>\n",
       "      <td>Fine Wine</td>\n",
       "      <td>MOVIE</td>\n",
       "      <td>0.987013</td>\n",
       "      <td>TV_PG</td>\n",
       "      <td>0.398406</td>\n",
       "      <td>[romance, drama]</td>\n",
       "      <td>0.00000</td>\n",
       "      <td>0.666667</td>\n",
       "      <td>0.842105</td>\n",
       "      <td>0.000525</td>\n",
       "    </tr>\n",
       "    <tr>\n",
       "      <th>5802</th>\n",
       "      <td>Edis Starlight</td>\n",
       "      <td>MOVIE</td>\n",
       "      <td>0.987013</td>\n",
       "      <td>TV_PG</td>\n",
       "      <td>0.294821</td>\n",
       "      <td>[music, documentation]</td>\n",
       "      <td>0.00000</td>\n",
       "      <td>0.617284</td>\n",
       "      <td>0.842105</td>\n",
       "      <td>0.000563</td>\n",
       "    </tr>\n",
       "    <tr>\n",
       "      <th>5803</th>\n",
       "      <td>Clash</td>\n",
       "      <td>MOVIE</td>\n",
       "      <td>0.987013</td>\n",
       "      <td>TV_PG</td>\n",
       "      <td>0.350598</td>\n",
       "      <td>[family, drama]</td>\n",
       "      <td>0.00000</td>\n",
       "      <td>0.617284</td>\n",
       "      <td>1.000000</td>\n",
       "      <td>0.000384</td>\n",
       "    </tr>\n",
       "    <tr>\n",
       "      <th>5804</th>\n",
       "      <td>Shadow Parties</td>\n",
       "      <td>MOVIE</td>\n",
       "      <td>0.987013</td>\n",
       "      <td>TV_PG</td>\n",
       "      <td>0.462151</td>\n",
       "      <td>[action, thriller]</td>\n",
       "      <td>0.00000</td>\n",
       "      <td>0.580247</td>\n",
       "      <td>1.000000</td>\n",
       "      <td>0.001194</td>\n",
       "    </tr>\n",
       "    <tr>\n",
       "      <th>5805</th>\n",
       "      <td>Mighty Little Bheem: Kite Festival</td>\n",
       "      <td>SHOW</td>\n",
       "      <td>0.987013</td>\n",
       "      <td>TV_PG</td>\n",
       "      <td>0.000000</td>\n",
       "      <td>[family, comedy, animation]</td>\n",
       "      <td>0.02381</td>\n",
       "      <td>0.901235</td>\n",
       "      <td>1.000000</td>\n",
       "      <td>0.000532</td>\n",
       "    </tr>\n",
       "  </tbody>\n",
       "</table>\n",
       "</div>"
      ],
      "text/plain": [
       "                                   title   type  release_year  \\\n",
       "5801                           Fine Wine  MOVIE      0.987013   \n",
       "5802                      Edis Starlight  MOVIE      0.987013   \n",
       "5803                               Clash  MOVIE      0.987013   \n",
       "5804                      Shadow Parties  MOVIE      0.987013   \n",
       "5805  Mighty Little Bheem: Kite Festival   SHOW      0.987013   \n",
       "\n",
       "     age_certification   runtime                       genres  seasons  \\\n",
       "5801             TV_PG  0.398406             [romance, drama]  0.00000   \n",
       "5802             TV_PG  0.294821       [music, documentation]  0.00000   \n",
       "5803             TV_PG  0.350598              [family, drama]  0.00000   \n",
       "5804             TV_PG  0.462151           [action, thriller]  0.00000   \n",
       "5805             TV_PG  0.000000  [family, comedy, animation]  0.02381   \n",
       "\n",
       "      imdb_score  tmdb_score  tmdb_popularity  \n",
       "5801    0.666667    0.842105         0.000525  \n",
       "5802    0.617284    0.842105         0.000563  \n",
       "5803    0.617284    1.000000         0.000384  \n",
       "5804    0.580247    1.000000         0.001194  \n",
       "5805    0.901235    1.000000         0.000532  "
      ]
     },
     "execution_count": 13,
     "metadata": {},
     "output_type": "execute_result"
    }
   ],
   "source": [
    "#fit back the scaled values to the datafram\n",
    "\n",
    "movies[col_names] = features\n",
    "movies.tail()"
   ]
  },
  {
   "cell_type": "code",
   "execution_count": 14,
   "metadata": {},
   "outputs": [],
   "source": [
    "#transform stirng column\n",
    "\n",
    "from sklearn.feature_extraction.text import TfidfVectorizer\n",
    "tf = TfidfVectorizer( stop_words='english' )"
   ]
  },
  {
   "cell_type": "code",
   "execution_count": 15,
   "metadata": {},
   "outputs": [],
   "source": [
    "#transform to matrix variable\n",
    "\n",
    "#matrix1 = tf.fit_transform(movies['type']).todense()\n",
    "matrix2 = tf.fit_transform(movies['age_certification']).todense()"
   ]
  },
  {
   "cell_type": "code",
   "execution_count": 16,
   "metadata": {},
   "outputs": [
    {
     "name": "stdout",
     "output_type": "stream",
     "text": [
      "['13', '14', '17', 'ma', 'nc', 'pg', 'tv', 'tv_pg', 'y7']\n"
     ]
    }
   ],
   "source": [
    "print(tf.get_feature_names())"
   ]
  },
  {
   "cell_type": "code",
   "execution_count": 17,
   "metadata": {},
   "outputs": [
    {
     "data": {
      "text/plain": [
       "(5805, 9)"
      ]
     },
     "execution_count": 17,
     "metadata": {},
     "output_type": "execute_result"
    }
   ],
   "source": [
    "#shape of transformed string column\n",
    "\n",
    "matrix2.shape"
   ]
  },
  {
   "cell_type": "code",
   "execution_count": 18,
   "metadata": {},
   "outputs": [],
   "source": [
    "#measure similarity btwn vector list\n",
    "\n",
    "from sklearn.metrics.pairwise import linear_kernel, cosine_similarity\n",
    "cosine_similarities = cosine_similarity(matrix2, matrix2)"
   ]
  },
  {
   "cell_type": "code",
   "execution_count": 19,
   "metadata": {},
   "outputs": [
    {
     "data": {
      "text/plain": [
       "title\n",
       "Five Came Back: The Reference Films    0\n",
       "Taxi Driver                            1\n",
       "Monty Python and the Holy Grail        2\n",
       "Life of Brian                          3\n",
       "The Exorcist                           4\n",
       "dtype: int64"
      ]
     },
     "execution_count": 19,
     "metadata": {},
     "output_type": "execute_result"
    }
   ],
   "source": [
    "#get movies title to a series\n",
    "\n",
    "movie_title = movies['title']\n",
    "indices = pd.Series(movies.index, index= movies['title']).drop_duplicates()\n",
    "indices.head()"
   ]
  },
  {
   "cell_type": "code",
   "execution_count": 20,
   "metadata": {},
   "outputs": [],
   "source": [
    "#create function that recommend movies\n",
    "\n",
    "def movie_recommend(title):\n",
    "    idx = indices[title]\n",
    "    sim_scores = list(enumerate(cosine_similarities[idx]))\n",
    "    sim_scores = sorted(sim_scores, key=lambda x: x[1], reverse=True)\n",
    "    sim_scores = sim_scores[1:31]\n",
    "    movie_indices = [i[0] for i in sim_scores]\n",
    "    return movie_title.iloc[movie_indices]\n",
    "    #print(sim_scores)\n"
   ]
  },
  {
   "cell_type": "code",
   "execution_count": 21,
   "metadata": {},
   "outputs": [
    {
     "data": {
      "text/plain": [
       "56               Awakenings\n",
       "108            Forrest Gump\n",
       "109           Happy Gilmore\n",
       "115                 Gattaca\n",
       "124           U.S. Marshals\n",
       "127        Last Action Hero\n",
       "128    Seven Years in Tibet\n",
       "138       The Mask of Zorro\n",
       "145        The Replacements\n",
       "148                Anaconda\n",
       "Name: title, dtype: object"
      ]
     },
     "execution_count": 21,
     "metadata": {},
     "output_type": "execute_result"
    }
   ],
   "source": [
    "movie_recommend('Extinction').head(10)"
   ]
  },
  {
   "cell_type": "code",
   "execution_count": 22,
   "metadata": {},
   "outputs": [
    {
     "data": {
      "text/plain": [
       "1                         Taxi Driver\n",
       "2     Monty Python and the Holy Grail\n",
       "3                       Life of Brian\n",
       "4                        The Exorcist\n",
       "5        Monty Python's Flying Circus\n",
       "6                         Dirty Harry\n",
       "7                        My Fair Lady\n",
       "8                     The Blue Lagoon\n",
       "9                    Bonnie and Clyde\n",
       "10                  The Professionals\n",
       "Name: title, dtype: object"
      ]
     },
     "execution_count": 22,
     "metadata": {},
     "output_type": "execute_result"
    }
   ],
   "source": [
    "movie_recommend('Life of Brian').head(10)"
   ]
  },
  {
   "cell_type": "code",
   "execution_count": 23,
   "metadata": {},
   "outputs": [
    {
     "data": {
      "text/plain": [
       "1                         Taxi Driver\n",
       "2     Monty Python and the Holy Grail\n",
       "3                       Life of Brian\n",
       "4                        The Exorcist\n",
       "5        Monty Python's Flying Circus\n",
       "6                         Dirty Harry\n",
       "7                        My Fair Lady\n",
       "8                     The Blue Lagoon\n",
       "9                    Bonnie and Clyde\n",
       "10                  The Professionals\n",
       "Name: title, dtype: object"
      ]
     },
     "execution_count": 23,
     "metadata": {},
     "output_type": "execute_result"
    }
   ],
   "source": [
    "movie_recommend('The Exorcist').head(10)"
   ]
  },
  {
   "cell_type": "code",
   "execution_count": null,
   "metadata": {},
   "outputs": [],
   "source": []
  }
 ],
 "metadata": {
  "kernelspec": {
   "display_name": "Python 3.9.7 ('base')",
   "language": "python",
   "name": "python3"
  },
  "language_info": {
   "codemirror_mode": {
    "name": "ipython",
    "version": 3
   },
   "file_extension": ".py",
   "mimetype": "text/x-python",
   "name": "python",
   "nbconvert_exporter": "python",
   "pygments_lexer": "ipython3",
   "version": "3.9.7"
  },
  "orig_nbformat": 4,
  "vscode": {
   "interpreter": {
    "hash": "ab83bb3b31ef002462feddea820f6122660d523dbac5533764612fbae547542e"
   }
  }
 },
 "nbformat": 4,
 "nbformat_minor": 2
}
